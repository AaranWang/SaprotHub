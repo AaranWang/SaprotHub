{
 "cells": [
  {
   "cell_type": "code",
   "execution_count": 11,
   "metadata": {},
   "outputs": [
    {
     "name": "stderr",
     "output_type": "stream",
     "text": [
      "100%|██████████| 3274/3274 [00:00<00:00, 10714.03it/s]\n",
      "Dumping data...: 100%|██████████| 2369/2369 [00:00<00:00, 261550.57it/s]\n",
      "Dumping data...: 100%|██████████| 443/443 [00:00<00:00, 143525.16it/s]\n",
      "Dumping data...: 100%|██████████| 465/465 [00:00<00:00, 149314.91it/s]\n"
     ]
    }
   ],
   "source": [
    "import sys\n",
    "sys.path.append('/root/dev/ColabProtT5/saprot')\n",
    "\n",
    "from utils.construct_lmdb import construct_lmdb\n",
    "\n",
    "csv_dataset_path = '/root/dataset/dataset.csv'\n",
    "LMDB_HOME = '/root/dataset/token_data'\n",
    "\n",
    "construct_lmdb(csv_dataset_path, LMDB_HOME, \"test\", \"token_classification\")"
   ]
  },
  {
   "cell_type": "code",
   "execution_count": 2,
   "metadata": {},
   "outputs": [
    {
     "data": {
      "text/plain": [
       "['P R T E I N X', 'S E Q W E N C E']"
      ]
     },
     "execution_count": 2,
     "metadata": {},
     "output_type": "execute_result"
    }
   ],
   "source": [
    "import re\n",
    "\n",
    "sequence_examples = [\"PRTEINO\", \"SEQWENCE\"]\n",
    "[\" \".join(list(re.sub(r\"[UZOB]\", \"X\", sequence))) for sequence in sequence_examples]"
   ]
  }
 ],
 "metadata": {
  "kernelspec": {
   "display_name": "SaprotHub",
   "language": "python",
   "name": "python3"
  },
  "language_info": {
   "codemirror_mode": {
    "name": "ipython",
    "version": 3
   },
   "file_extension": ".py",
   "mimetype": "text/x-python",
   "name": "python",
   "nbconvert_exporter": "python",
   "pygments_lexer": "ipython3",
   "version": "3.10.14"
  }
 },
 "nbformat": 4,
 "nbformat_minor": 2
}
