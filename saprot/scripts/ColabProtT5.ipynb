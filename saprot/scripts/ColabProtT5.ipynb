{
 "cells": [
  {
   "cell_type": "markdown",
   "metadata": {},
   "source": [
    "# Load Dataset with T5Tokenizer"
   ]
  },
  {
   "cell_type": "code",
   "execution_count": 1,
   "metadata": {},
   "outputs": [
    {
     "name": "stderr",
     "output_type": "stream",
     "text": [
      "/lizhikai/anaconda3/envs/protrek/lib/python3.10/site-packages/tqdm/auto.py:21: TqdmWarning: IProgress not found. Please update jupyter and ipywidgets. See https://ipywidgets.readthedocs.io/en/stable/user_install.html\n",
      "  from .autonotebook import tqdm as notebook_tqdm\n",
      "/lizhikai/anaconda3/envs/protrek/lib/python3.10/site-packages/huggingface_hub/file_download.py:1132: FutureWarning: `resume_download` is deprecated and will be removed in version 1.0.0. Downloads always resume when possible. If you want to force a new download, use `force_download=True`.\n",
      "  warnings.warn(\n"
     ]
    }
   ],
   "source": [
    "import sys\n",
    "sys.path.append('/lizhikai/workspace/lzk/SaprotHub/saprot')\n",
    "\n",
    "dataset_config = {\n",
    "    \"dataloader_kwargs\": {\n",
    "        \"batch_size\": 1,\n",
    "        \"num_workers\": 2\n",
    "    },\n",
    "    \"train_lmdb\": \"/content/saprot/LMDB/DeepLoc/cls2/foldseek/train\",\n",
    "    \"valid_lmdb\": \"/content/saprot/LMDB/DeepLoc/cls2/foldseek/valid\",\n",
    "    \"test_lmdb\": \"/content/saprot/LMDB/DeepLoc/cls2/foldseek/test\",\n",
    "    \"tokenizer\": \"Rostlab/prot_t5_xl_uniref50\",\n",
    "    \"plddt_threshold\": None\n",
    "}\n",
    "\n",
    "from dataset.protT5.protT5_classification_dataset import ProtT5ClassificationDataset\n",
    "data_module = ProtT5ClassificationDataset(**dataset_config)"
   ]
  },
  {
   "cell_type": "markdown",
   "metadata": {},
   "source": [
    "# Load Dataset with T5Tokenizer\n"
   ]
  },
  {
   "cell_type": "code",
   "execution_count": null,
   "metadata": {},
   "outputs": [],
   "source": [
    "\n",
    "model_config = {\n",
    "\n",
    "}\n",
    "\n",
    "\n",
    "from model.protT5.protT5_classification_model import ProtT5ClassificationModel\n",
    "model_module = ProtT5ClassificationModel(**model_config)"
   ]
  },
  {
   "cell_type": "code",
   "execution_count": 3,
   "metadata": {},
   "outputs": [
    {
     "data": {
      "text/plain": [
       "<dataset.protT5.protT5_classification_dataset.ProtT5ClassificationDataset at 0x7f419940e740>"
      ]
     },
     "execution_count": 3,
     "metadata": {},
     "output_type": "execute_result"
    }
   ],
   "source": [
    "\n",
    "data_module"
   ]
  }
 ],
 "metadata": {
  "kernelspec": {
   "display_name": "Python 3",
   "language": "python",
   "name": "python3"
  },
  "language_info": {
   "name": "python",
   "version": "3.10.14"
  }
 },
 "nbformat": 4,
 "nbformat_minor": 2
}
